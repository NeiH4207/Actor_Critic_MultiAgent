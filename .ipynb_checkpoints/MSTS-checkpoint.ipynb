{
 "cells": [
  {
   "cell_type": "code",
   "execution_count": 2,
   "id": "bf264340",
   "metadata": {},
   "outputs": [],
   "source": [
    "\"\"\"\n",
    "Created on Fri Nov 27 16:00:47 2020\n",
    "@author: hien\n",
    "\"\"\"\n",
    "from __future__ import division\n",
    "\n",
    "import logging\n",
    "from src.environment import Environment\n",
    "from read_input import Data\n",
    "from src.model import Policy\n",
    "from src.Coach import Coach\n",
    "from src.utils import dotdict\n",
    "import torch"
   ]
  },
  {
   "cell_type": "code",
   "execution_count": 3,
   "id": "05181bb3",
   "metadata": {},
   "outputs": [],
   "source": [
    "log = logging.getLogger(__name__)\n",
    "\n",
    "args = dotdict({\n",
    "    'run_mode': 'train',\n",
    "    'visualize': True,\n",
    "    'min_size': 7,\n",
    "    'max_size': 7,\n",
    "    'n_games': 1,\n",
    "    'n_maps': 1000,\n",
    "    'show_screen': False,\n",
    "    'replay_memory_size': 10000,\n",
    "    'initial_epsilon': 0.1,\n",
    "    'final_epsilon': 1e-4,\n",
    "    'dir': './Models/',\n",
    "    'numIters': 1000,\n",
    "    'numEps': 20,              # Number of complete self-play games to simulate during a new iteration.\n",
    "    'tempThreshold': 15,        #\n",
    "    'updateThreshold': 0.6,     # During arena playoff, new neural net will be accepted if threshold or more of games are won.\n",
    "    'maxlenOfQueue': 10000,    # Number of game examples to train the neural networks.\n",
    "    'numMCTSSims': 20,          # Number of games moves for MCTS to simulate.\n",
    "    'arenaCompare': 40,         # Number of games to play during arena play to determine if new net will be accepted.\n",
    "    'cpuct': 1,\n",
    "    'colab_train': False,\n",
    "    'colab_dir': \"/content/drive/MyDrive/trainned_model/agent_mcts.pt\",\n",
    "    'checkpoint': './temp/',\n",
    "    'load_model': False,\n",
    "    'load_folder_file': ('Models','agent_mcts.pt'),\n",
    "    'numItersForTrainExamplesHistory': 15,\n",
    "    'saved_model': True\n",
    "})"
   ]
  },
  {
   "cell_type": "code",
   "execution_count": 5,
   "id": "3451b640",
   "metadata": {
    "scrolled": false
   },
   "outputs": [
    {
     "name": "stderr",
     "output_type": "stream",
     "text": [
      "Not loading a checkpoint!\n"
     ]
    }
   ],
   "source": [
    "data = Data(args.min_size, args.max_size)\n",
    "env = Environment(data.get_random_map(), args.show_screen, args.max_size)\n",
    "model = Policy(env)\n",
    "if args.load_model:\n",
    "    log.info('Loading checkpoint \"%s/%s\"...', args.load_folder_file)\n",
    "    model.load_checkpoint(args.load_folder_file[0], args.load_folder_file[1])\n",
    "else:\n",
    "    log.warning('Not loading a checkpoint!')\n"
   ]
  },
  {
   "cell_type": "code",
   "execution_count": null,
   "id": "65141065",
   "metadata": {},
   "outputs": [],
   "source": [
    "\n",
    "    # log.info('Loading the Coach...')\n",
    "    coach = Coach(env, model, args)\n",
    "\n",
    "    # if args.load_model:\n",
    "    #     # log.info(\"Loading 'trainExamples' from file...\")\n",
    "    #     coach.loadTrainExamples()\n",
    "\n",
    "    # log.info('Starting the learning process !')\n",
    "    for i in range(args.numIters):\n",
    "        # bookkeeping\n",
    "        log.info(f'Starting Iter #{i} ...')\n",
    "        coach.learn(i)\n",
    "        coach.game = Environment(data.get_random_map(), args.show_screen, args.max_size)"
   ]
  }
 ],
 "metadata": {
  "interpreter": {
   "hash": "15d21c04e104a7fd0ffe6fbe0eb4d71583944ad5de2575e56bdd4886a5c334cc"
  },
  "kernelspec": {
   "display_name": "Python 3 (ipykernel)",
   "language": "python",
   "name": "python3"
  },
  "language_info": {
   "codemirror_mode": {
    "name": "ipython",
    "version": 3
   },
   "file_extension": ".py",
   "mimetype": "text/x-python",
   "name": "python",
   "nbconvert_exporter": "python",
   "pygments_lexer": "ipython3",
   "version": "3.9.6"
  }
 },
 "nbformat": 4,
 "nbformat_minor": 5
}
